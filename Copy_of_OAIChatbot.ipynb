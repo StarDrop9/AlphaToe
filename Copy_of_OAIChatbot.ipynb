{
  "nbformat": 4,
  "nbformat_minor": 0,
  "metadata": {
    "colab": {
      "name": "Copy of OAIChatbot.ipynb",
      "provenance": [],
      "authorship_tag": "ABX9TyMDJt67MwFGbujSM/C3PKCw",
      "include_colab_link": true
    },
    "kernelspec": {
      "name": "python3",
      "display_name": "Python 3"
    }
  },
  "cells": [
    {
      "cell_type": "markdown",
      "metadata": {
        "id": "view-in-github",
        "colab_type": "text"
      },
      "source": [
        "<a href=\"https://colab.research.google.com/github/StarDrop9/AlphaToe/blob/master/Copy_of_OAIChatbot.ipynb\" target=\"_parent\"><img src=\"https://colab.research.google.com/assets/colab-badge.svg\" alt=\"Open In Colab\"/></a>"
      ]
    },
    {
      "cell_type": "code",
      "metadata": {
        "id": "ZNXL5Jcjtn5T"
      },
      "source": [
        "!pip3 install openai\n",
        "!pip3 install tokenizers\n",
        "!pip install speake3\n",
        "!pip3 install pyttsx3\n",
        "!pip3 install SpeechRecognition\n",
        "import openai\n",
        "import chatBot"
      ],
      "execution_count": null,
      "outputs": []
    },
    {
      "cell_type": "code",
      "metadata": {
        "id": "mlFNq0xtxjuK",
        "colab": {
          "base_uri": "https://localhost:8080/"
        },
        "outputId": "332af9ce-c521-429a-aec3-871444e322be"
      },
      "source": [
        "!pip3 install speake3\n"
      ],
      "execution_count": null,
      "outputs": [
        {
          "output_type": "stream",
          "text": [
            "Requirement already satisfied: speake3 in /usr/local/lib/python3.6/dist-packages (0.3)\n"
          ],
          "name": "stdout"
        }
      ]
    }
  ]
}